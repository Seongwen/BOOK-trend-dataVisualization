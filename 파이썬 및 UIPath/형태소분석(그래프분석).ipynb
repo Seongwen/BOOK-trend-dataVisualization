{
 "cells": [
  {
   "cell_type": "markdown",
   "id": "04302685-a202-43f2-9539-9a3e6ce98810",
   "metadata": {},
   "source": [
    "### install"
   ]
  },
  {
   "cell_type": "code",
   "execution_count": 1,
   "id": "a4beed86-eeea-4b59-b153-60a91abf7f72",
   "metadata": {},
   "outputs": [],
   "source": [
    "# !pip install JPype1\n",
    "# !pip install konlpy"
   ]
  },
  {
   "cell_type": "code",
   "execution_count": 1,
   "id": "f152aec5-9831-4747-90d1-4f82b3040e7c",
   "metadata": {},
   "outputs": [],
   "source": [
    "import pandas as pd\n",
    "\n",
    "# 형태소분석\n",
    "from konlpy.tag import Okt\n",
    "\n",
    "# 갯수카운트\n",
    "from collections import Counter\n",
    "\n",
    "# 그래프 그릴때\n",
    "import matplotlib\n",
    "import matplotlib.pyplot as plt\n",
    "\n",
    "# 폰트\n",
    "matplotlib.rcParams[\"font.family\"] = \"Malgun Gothic\"\n",
    "\n",
    "# 워드클라우드 \n",
    "import numpy as np\n",
    "from PIL import Image\n",
    "from wordcloud import WordCloud"
   ]
  },
  {
   "cell_type": "markdown",
   "id": "0b5b80c1-8dad-474b-914e-9ed8d1e41b5f",
   "metadata": {},
   "source": [
    "### 엑셀에서 df가져오기"
   ]
  },
  {
   "cell_type": "code",
   "execution_count": 5,
   "id": "f25de6bb-b63e-4a56-9df7-b7a76fd6246e",
   "metadata": {},
   "outputs": [
    {
     "data": {
      "text/html": [
       "<div>\n",
       "<style scoped>\n",
       "    .dataframe tbody tr th:only-of-type {\n",
       "        vertical-align: middle;\n",
       "    }\n",
       "\n",
       "    .dataframe tbody tr th {\n",
       "        vertical-align: top;\n",
       "    }\n",
       "\n",
       "    .dataframe thead th {\n",
       "        text-align: right;\n",
       "    }\n",
       "</style>\n",
       "<table border=\"1\" class=\"dataframe\">\n",
       "  <thead>\n",
       "    <tr style=\"text-align: right;\">\n",
       "      <th></th>\n",
       "      <th>도서명</th>\n",
       "      <th>분류1</th>\n",
       "      <th>분류2</th>\n",
       "    </tr>\n",
       "  </thead>\n",
       "  <tbody>\n",
       "    <tr>\n",
       "      <th>0</th>\n",
       "      <td>한정희 된다 7일 실무 엑셀 [이지스퍼블리싱]</td>\n",
       "      <td>오피스활용도서</td>\n",
       "      <td>MS Excel</td>\n",
       "    </tr>\n",
       "    <tr>\n",
       "      <th>1</th>\n",
       "      <td>파이썬 머신러닝 완벽 가이드 / 위키북스 (책,도서)</td>\n",
       "      <td>프로그래밍 언어</td>\n",
       "      <td>NaN</td>\n",
       "    </tr>\n",
       "    <tr>\n",
       "      <th>2</th>\n",
       "      <td>윤성우의 열혈 c 프로그래밍 책 윤성우 오렌지미디어</td>\n",
       "      <td>프로그래밍 언어</td>\n",
       "      <td>NaN</td>\n",
       "    </tr>\n",
       "    <tr>\n",
       "      <th>3</th>\n",
       "      <td>영상 편집을 위한 프리미어 프로 제이펍</td>\n",
       "      <td>그래픽/멀티미디어</td>\n",
       "      <td>그래픽일반/자료집</td>\n",
       "    </tr>\n",
       "    <tr>\n",
       "      <th>4</th>\n",
       "      <td>do it 점프 투 파이썬 / 이지스퍼블리싱 책</td>\n",
       "      <td>프로그래밍 언어</td>\n",
       "      <td>NaN</td>\n",
       "    </tr>\n",
       "    <tr>\n",
       "      <th>...</th>\n",
       "      <td>...</td>\n",
       "      <td>...</td>\n",
       "      <td>...</td>\n",
       "    </tr>\n",
       "    <tr>\n",
       "      <th>495</th>\n",
       "      <td>autocad 2010 쉽게 배우기 책 (영진닷컴)</td>\n",
       "      <td>그래픽/멀티미디어</td>\n",
       "      <td>그래픽툴/저작툴</td>\n",
       "    </tr>\n",
       "    <tr>\n",
       "      <th>496</th>\n",
       "      <td>자바스크립트 패턴과 테스트</td>\n",
       "      <td>프로그래밍 언어</td>\n",
       "      <td>NaN</td>\n",
       "    </tr>\n",
       "    <tr>\n",
       "      <th>497</th>\n",
       "      <td>이상만 (메카피아) 솔리드웍스 정적구조 공학해석 실무 책</td>\n",
       "      <td>그래픽/멀티미디어</td>\n",
       "      <td>그래픽툴/저작툴</td>\n",
       "    </tr>\n",
       "    <tr>\n",
       "      <th>498</th>\n",
       "      <td>sql server로 배우는 데이터베이스 개론과 실습 책 (한빛아카데미)</td>\n",
       "      <td>OS/데이터베이스</td>\n",
       "      <td>NaN</td>\n",
       "    </tr>\n",
       "    <tr>\n",
       "      <th>499</th>\n",
       "      <td>[보리보리/유니오니아시아]초보자를 위한 c++ 200제</td>\n",
       "      <td>프로그래밍 언어</td>\n",
       "      <td>NaN</td>\n",
       "    </tr>\n",
       "  </tbody>\n",
       "</table>\n",
       "<p>500 rows × 3 columns</p>\n",
       "</div>"
      ],
      "text/plain": [
       "                                          도서명        분류1        분류2\n",
       "0                   한정희 된다 7일 실무 엑셀 [이지스퍼블리싱]    오피스활용도서   MS Excel\n",
       "1               파이썬 머신러닝 완벽 가이드 / 위키북스 (책,도서)   프로그래밍 언어        NaN\n",
       "2                윤성우의 열혈 c 프로그래밍 책 윤성우 오렌지미디어   프로그래밍 언어        NaN\n",
       "3                       영상 편집을 위한 프리미어 프로 제이펍  그래픽/멀티미디어  그래픽일반/자료집\n",
       "4                  do it 점프 투 파이썬 / 이지스퍼블리싱 책   프로그래밍 언어        NaN\n",
       "..                                        ...        ...        ...\n",
       "495              autocad 2010 쉽게 배우기 책 (영진닷컴)  그래픽/멀티미디어   그래픽툴/저작툴\n",
       "496                            자바스크립트 패턴과 테스트   프로그래밍 언어        NaN\n",
       "497           이상만 (메카피아) 솔리드웍스 정적구조 공학해석 실무 책  그래픽/멀티미디어   그래픽툴/저작툴\n",
       "498  sql server로 배우는 데이터베이스 개론과 실습 책 (한빛아카데미)  OS/데이터베이스        NaN\n",
       "499            [보리보리/유니오니아시아]초보자를 위한 c++ 200제   프로그래밍 언어        NaN\n",
       "\n",
       "[500 rows x 3 columns]"
      ]
     },
     "execution_count": 5,
     "metadata": {},
     "output_type": "execute_result"
    }
   ],
   "source": [
    "##### 쇼핑에서 가져올 때 #####\n",
    "\n",
    "file = ['네이버쇼핑_IT.xlsx',\n",
    "        '네이버쇼핑_경제.xlsx',\n",
    "        '네이버쇼핑_여행.xlsx',\n",
    "        '네이버쇼핑_취미.xlsx']\n",
    "dfname=['it','경제','여행','취미']\n",
    "\n",
    "for name,i in zip(file,dfname):\n",
    "    df_sh = pd.read_excel(f'./bookData/{name}', engine='openpyxl', header = None, names=['도서명','분류1','분류2'])\n",
    "    globals()['df_sh_{}'.format(i)]=df_sh\n",
    "\n",
    "# df_sh_hobby = pd.read_excel('네이버쇼핑_취미.xlsx', engine='openpyxl', header = None, names=['도서명','분류1','분류2'])\n",
    "df_sh_it"
   ]
  },
  {
   "cell_type": "code",
   "execution_count": 3,
   "id": "5f2dc3e1-145e-4c82-83ca-7f9a26c09c34",
   "metadata": {
    "tags": []
   },
   "outputs": [
    {
     "data": {
      "text/html": [
       "<div>\n",
       "<style scoped>\n",
       "    .dataframe tbody tr th:only-of-type {\n",
       "        vertical-align: middle;\n",
       "    }\n",
       "\n",
       "    .dataframe tbody tr th {\n",
       "        vertical-align: top;\n",
       "    }\n",
       "\n",
       "    .dataframe thead th {\n",
       "        text-align: right;\n",
       "    }\n",
       "</style>\n",
       "<table border=\"1\" class=\"dataframe\">\n",
       "  <thead>\n",
       "    <tr style=\"text-align: right;\">\n",
       "      <th></th>\n",
       "      <th>순위</th>\n",
       "      <th>ISBN</th>\n",
       "      <th>도서명</th>\n",
       "      <th>저자명</th>\n",
       "      <th>출판사명</th>\n",
       "      <th>출간일</th>\n",
       "      <th>분야</th>\n",
       "      <th>정가</th>\n",
       "    </tr>\n",
       "  </thead>\n",
       "  <tbody>\n",
       "    <tr>\n",
       "      <th>1</th>\n",
       "      <td>1</td>\n",
       "      <td>9.788926e+12</td>\n",
       "      <td>곰돌이 푸, 행복한 일은 매일 있어</td>\n",
       "      <td>곰돌이 푸 (원작)</td>\n",
       "      <td>알에이치코리아</td>\n",
       "      <td>20180312.0</td>\n",
       "      <td>시/에세이</td>\n",
       "      <td>12000.0</td>\n",
       "    </tr>\n",
       "    <tr>\n",
       "      <th>2</th>\n",
       "      <td>2</td>\n",
       "      <td>9.791162e+12</td>\n",
       "      <td>모든 순간이 너였다</td>\n",
       "      <td>하태완</td>\n",
       "      <td>위즈덤하우스</td>\n",
       "      <td>20180216.0</td>\n",
       "      <td>시/에세이</td>\n",
       "      <td>13800.0</td>\n",
       "    </tr>\n",
       "    <tr>\n",
       "      <th>3</th>\n",
       "      <td>3</td>\n",
       "      <td>9.788957e+12</td>\n",
       "      <td>무례한 사람에게 웃으며 대처하는 법</td>\n",
       "      <td>정문정</td>\n",
       "      <td>가나출판사</td>\n",
       "      <td>20180108.0</td>\n",
       "      <td>시/에세이</td>\n",
       "      <td>13800.0</td>\n",
       "    </tr>\n",
       "    <tr>\n",
       "      <th>4</th>\n",
       "      <td>4</td>\n",
       "      <td>9.788937e+12</td>\n",
       "      <td>82년생 김지영(오늘의 젊은 작가 13)(양장본 HardCover)</td>\n",
       "      <td>조남주</td>\n",
       "      <td>민음사</td>\n",
       "      <td>20161014.0</td>\n",
       "      <td>소설</td>\n",
       "      <td>13000.0</td>\n",
       "    </tr>\n",
       "    <tr>\n",
       "      <th>5</th>\n",
       "      <td>5</td>\n",
       "      <td>9.791187e+12</td>\n",
       "      <td>나는 나로 살기로 했다</td>\n",
       "      <td>김수현</td>\n",
       "      <td>마음의숲</td>\n",
       "      <td>20200316.0</td>\n",
       "      <td>시/에세이</td>\n",
       "      <td>13800.0</td>\n",
       "    </tr>\n",
       "    <tr>\n",
       "      <th>...</th>\n",
       "      <td>...</td>\n",
       "      <td>...</td>\n",
       "      <td>...</td>\n",
       "      <td>...</td>\n",
       "      <td>...</td>\n",
       "      <td>...</td>\n",
       "      <td>...</td>\n",
       "      <td>...</td>\n",
       "    </tr>\n",
       "    <tr>\n",
       "      <th>196</th>\n",
       "      <td>196</td>\n",
       "      <td>9.788984e+12</td>\n",
       "      <td>오리진. 1</td>\n",
       "      <td>댄 브라운</td>\n",
       "      <td>문학수첩</td>\n",
       "      <td>20171123.0</td>\n",
       "      <td>소설</td>\n",
       "      <td>13000.0</td>\n",
       "    </tr>\n",
       "    <tr>\n",
       "      <th>197</th>\n",
       "      <td>197</td>\n",
       "      <td>9.788959e+12</td>\n",
       "      <td>어쩌면 별들이 너의 슬픔을 가져갈지도 몰라(감성치유 라이팅북)</td>\n",
       "      <td>김용택 (엮음)</td>\n",
       "      <td>위즈덤하우스</td>\n",
       "      <td>20150604.0</td>\n",
       "      <td>시/에세이</td>\n",
       "      <td>12800.0</td>\n",
       "    </tr>\n",
       "    <tr>\n",
       "      <th>198</th>\n",
       "      <td>198</td>\n",
       "      <td>9.788955e+12</td>\n",
       "      <td>미스 함무라비</td>\n",
       "      <td>문유석</td>\n",
       "      <td>문학동네</td>\n",
       "      <td>20161202.0</td>\n",
       "      <td>소설</td>\n",
       "      <td>13500.0</td>\n",
       "    </tr>\n",
       "    <tr>\n",
       "      <th>199</th>\n",
       "      <td>199</td>\n",
       "      <td>9.788965e+12</td>\n",
       "      <td>해커스 토익스피킹(토스) Level. 7·8(2주 만에 끝내는)(개정판 3판)</td>\n",
       "      <td>해커스 어학연구소</td>\n",
       "      <td>해커스어학연구소</td>\n",
       "      <td>20190731.0</td>\n",
       "      <td>외국어</td>\n",
       "      <td>19800.0</td>\n",
       "    </tr>\n",
       "    <tr>\n",
       "      <th>200</th>\n",
       "      <td>200</td>\n",
       "      <td>9.791187e+12</td>\n",
       "      <td>블루오션 시프트(양장본 HardCover)</td>\n",
       "      <td>김위찬</td>\n",
       "      <td>비즈니스북스</td>\n",
       "      <td>20171230.0</td>\n",
       "      <td>경제/경영</td>\n",
       "      <td>20000.0</td>\n",
       "    </tr>\n",
       "  </tbody>\n",
       "</table>\n",
       "<p>200 rows × 8 columns</p>\n",
       "</div>"
      ],
      "text/plain": [
       "      순위          ISBN                                          도서명  \\\n",
       "1      1  9.788926e+12                          곰돌이 푸, 행복한 일은 매일 있어   \n",
       "2      2  9.791162e+12                                   모든 순간이 너였다   \n",
       "3      3  9.788957e+12                          무례한 사람에게 웃으며 대처하는 법   \n",
       "4      4  9.788937e+12        82년생 김지영(오늘의 젊은 작가 13)(양장본 HardCover)   \n",
       "5      5  9.791187e+12                                 나는 나로 살기로 했다   \n",
       "..   ...           ...                                          ...   \n",
       "196  196  9.788984e+12                                       오리진. 1   \n",
       "197  197  9.788959e+12           어쩌면 별들이 너의 슬픔을 가져갈지도 몰라(감성치유 라이팅북)   \n",
       "198  198  9.788955e+12                                      미스 함무라비   \n",
       "199  199  9.788965e+12  해커스 토익스피킹(토스) Level. 7·8(2주 만에 끝내는)(개정판 3판)   \n",
       "200  200  9.791187e+12                      블루오션 시프트(양장본 HardCover)   \n",
       "\n",
       "            저자명      출판사명         출간일     분야       정가  \n",
       "1    곰돌이 푸 (원작)   알에이치코리아  20180312.0  시/에세이  12000.0  \n",
       "2           하태완    위즈덤하우스  20180216.0  시/에세이  13800.0  \n",
       "3           정문정     가나출판사  20180108.0  시/에세이  13800.0  \n",
       "4           조남주       민음사  20161014.0     소설  13000.0  \n",
       "5           김수현      마음의숲  20200316.0  시/에세이  13800.0  \n",
       "..          ...       ...         ...    ...      ...  \n",
       "196       댄 브라운      문학수첩  20171123.0     소설  13000.0  \n",
       "197    김용택 (엮음)    위즈덤하우스  20150604.0  시/에세이  12800.0  \n",
       "198         문유석      문학동네  20161202.0     소설  13500.0  \n",
       "199   해커스 어학연구소  해커스어학연구소  20190731.0    외국어  19800.0  \n",
       "200         김위찬    비즈니스북스  20171230.0  경제/경영  20000.0  \n",
       "\n",
       "[200 rows x 8 columns]"
      ]
     },
     "execution_count": 3,
     "metadata": {},
     "output_type": "execute_result"
    }
   ],
   "source": [
    "##### 베스트셀러에서 df #####\n",
    "\n",
    "# \n",
    "file2 = ['교보문고_종합 베스트_연간_2018년_경제경영202201171730.xlsx',\n",
    "        '교보문고_종합 베스트_연간_2018년_기술_컴퓨터202201171729.xlsx',\n",
    "        '교보문고_종합 베스트_연간_2018년_여행202201171730.xlsx',\n",
    "        '교보문고_종합 베스트_연간_2018년_취미_스포츠202201171733.xlsx',\n",
    "        '교보문고_종합 베스트_연간_2019년_경제경영202201171730.xlsx',\n",
    "        '교보문고_종합 베스트_연간_2019년_기술_컴퓨터202201171729.xlsx',\n",
    "        '교보문고_종합 베스트_연간_2019년_여행202201171730.xlsx',\n",
    "        '교보문고_종합 베스트_연간_2019년_취미_스포츠202201171732.xlsx',\n",
    "        '교보문고_종합 베스트_연간_2020년_경제경영202201171730.xlsx',\n",
    "        '교보문고_종합 베스트_연간_2020년_기술_컴퓨터202201171730.xlsx',\n",
    "        '교보문고_종합 베스트_연간_2020년_여행202201171729.xlsx',\n",
    "        '교보문고_종합 베스트_연간_2020년_취미_스포츠202201171730.xlsx',\n",
    "        '교보문고_종합 베스트_연간_2021년_경제경영202201171729.xlsx',\n",
    "        '교보문고_종합 베스트_연간_2021년_기술_컴퓨터202201171730.xlsx',\n",
    "        '교보문고_종합 베스트_연간_2021년_분야_종합202201171707.xlsx',\n",
    "        '교보문고_종합 베스트_연간_2021년_여행202201171729.xlsx',\n",
    "        '교보문고_종합 베스트_연간_2021년_취미_스포츠202201171727.xlsx',\n",
    "        '교보문고_종합 베스트_연간_2020년_분야_종합202201191022.xlsx',\n",
    "        '교보문고_종합 베스트_연간_2019년_분야_종합202201191022.xlsx',\n",
    "        '교보문고_종합 베스트_연간_2018년_분야_종합202201191022.xlsx']\n",
    "\n",
    "# file2에서 df파일명 만듦\n",
    "dfname2=[]\n",
    "for i in range(len(file2)):\n",
    "    dfname2.append(file2[i].replace('교보문고_종합 베스트_연간_','').split('2022')[0])\n",
    "\n",
    "\n",
    "for name,i in zip(file2,dfname2):\n",
    "    df_best = pd.read_excel(f'./bookData/{name}', engine='openpyxl',header=1)\n",
    "    df_best.drop([0], inplace = True)\n",
    "    globals()['df_best{}'.format(i)]=df_best\n",
    "    \n",
    "\n",
    "\n",
    "'''\n",
    "# 경로는 맞게 수정해야함\n",
    "df_best2021_hobby = pd.read_excel('C:/Users/sw/Desktop/2nd Project/bookData/교보문고_종합 베스트_연간_2021년_취미_스포츠202201171727.xlsx', engine='openpyxl',header=1)\n",
    "\n",
    "# 무의미한 데이터행 삭제\n",
    "df_best2021_hobby.drop([0], inplace = True)\n",
    "# 인덱스 초기화\n",
    "# df_best2021_hobby.reset_index(inplace = True)\n",
    "# df_best2021_hobby[:5]\n",
    "'''\n",
    "df_best2018년_분야_종합"
   ]
  },
  {
   "cell_type": "markdown",
   "id": "3d2c8b59-4359-465c-b55d-4ee4669fc4af",
   "metadata": {},
   "source": [
    "# 형태소분석"
   ]
  },
  {
   "cell_type": "code",
   "execution_count": 28,
   "id": "a8143763-4ecd-4410-841c-b19d3dea16b3",
   "metadata": {},
   "outputs": [],
   "source": [
    "\n",
    "\n",
    "#### dataframe가져오기 ####\n",
    "df_sample = df_best2021년_여행['도서명']\n",
    "# df_sample[:5]\n",
    "\n",
    "# 가져온 컬럼을 리스트로 변환\n",
    "val_list=df_sample.values.tolist()\n",
    "\n",
    "\"\"\"\n",
    "# \"(\"이후 안가져옴 ex양장본,개정판 등등\n",
    "val_list2=[]\n",
    "for i in range(len(val_list)):\n",
    "    val_list2.append(val_list[i].split('(')[0])\n",
    "val_list2  \n",
    "\"\"\"\n",
    "\n",
    "### 형태소분석(명사로) 하고 keword 리스트에 저장 ###\n",
    "okt =Okt()\n",
    "keyword=okt.nouns(' '.join(val_list))\n",
    "\n",
    "#### 필터링 #####\n",
    "# 걸러낼 단어\n",
    "excp=['']\n",
    "\n",
    "two_letter = []\n",
    "for word in keyword:\n",
    "    if word in excp:\n",
    "            # print(i,f'{excp}')\n",
    "            continue\n",
    "    elif (word =='돈')or(len(word) > 1):\n",
    "        two_letter.append(word)\n",
    "\n",
    "# 갯수별 카운팅하고 딕셔너리로 변환\n",
    "keyword_dict = dict(Counter(keyword))\n",
    "keyword_dict\n",
    "\n"
   ]
  },
  {
   "cell_type": "code",
   "execution_count": null,
   "id": "9ff80684-843c-48f7-b89e-cb424325bbc8",
   "metadata": {},
   "outputs": [],
   "source": [
    "####################################################\n",
    "# \"(\"이후 안가져옴 ex양장본,개정판 등등\n",
    "val_list2=[]\n",
    "for i in range(len(val_list)):\n",
    "    val_list2.append(val_list[i].split('(')[0])\n",
    "val_list2    \n",
    "###################################################"
   ]
  },
  {
   "cell_type": "raw",
   "id": "9e36dac8-982c-4230-9d1d-5834ac0ebd1d",
   "metadata": {},
   "source": [
    "\n",
    "df_sh_it\n",
    "df_sh_경제\n",
    "df_sh_여행\n",
    "df_sh_취미\n",
    "\n",
    "df_best2021년_분야_종합\n",
    "\n",
    "df_best2021년_여행\n",
    "df_best2021년_기술_컴퓨터\n",
    "df_best2021년_경제경영\n",
    "df_best2021년_취미_스포츠\n"
   ]
  },
  {
   "cell_type": "code",
   "execution_count": null,
   "id": "2a43b031-3f5e-405a-8042-719d497776ab",
   "metadata": {},
   "outputs": [],
   "source": [
    "# 도서명 컬럼 가져오기\n",
    "df_sample = df_best2021년_경제경영['도서명']\n",
    "# df_sample[:5]\n",
    "\n",
    "# 가져온 컬럼을 리스트로 변환\n",
    "val_list=df_sample.values.tolist()\n",
    "# 형태소분석(명사로) 하고 keword 리스트에 저장 \n",
    "okt =Okt()\n",
    "keyword=okt.nouns(' '.join(val_list))\n",
    "# keyword_dict = dict(Counter(keyword))"
   ]
  },
  {
   "cell_type": "markdown",
   "id": "d799a012-e00a-4f2b-a10e-920b94365682",
   "metadata": {},
   "source": [
    "## 여행"
   ]
  },
  {
   "cell_type": "code",
   "execution_count": 116,
   "id": "52411819-789f-48ac-b2d8-7aaad00c39be",
   "metadata": {},
   "outputs": [],
   "source": [
    "df_sample = df_sh_여행['도서명']\n",
    "# df_sample[:5]\n",
    "\n",
    "# 가져온 컬럼을 리스트로 변환\n",
    "val_list=df_sample.values.tolist()\n",
    "# 형태소분석(명사로) 하고 keword 리스트에 저장 \n",
    "okt =Okt()\n",
    "keyword=okt.nouns(' '.join(val_list))\n",
    "keyword_dict = dict(Counter(keyword))\n",
    "keyword_dict\n",
    "keyword_lict=sorted(keyword_dict, key=keyword_dict.get, reverse=True)\n"
   ]
  },
  {
   "cell_type": "code",
   "execution_count": 141,
   "id": "867d1cb7-c974-4ad8-925a-794bb29eb2d0",
   "metadata": {},
   "outputs": [
    {
     "data": {
      "image/png": "[encoded data removed]",
      "text/plain": [
       "<Figure size 1440x360 with 1 Axes>"
      ]
     },
     "metadata": {
      "needs_background": "light"
     },
     "output_type": "display_data"
    }
   ],
   "source": [
    "plt.figure(figsize=(20,5)) #그림사이즈를 크게-글자가 겹쳐서안보임\n",
    "plt.xlabel(\"키워드\")\n",
    "plt.ylabel(\"빈도수\")\n",
    "plt.grid()\n",
    "\n",
    "정렬된명사들=sorted(keyword_dict, key=keyword_dict.get, reverse=True)\n",
    "#내림차순으로 해야되기떄문에 리버스\n",
    "\n",
    "#각각의 값들이 갖고있는 카운트값이 필요\n",
    "정렬된값들 = sorted(keyword_dict.values(), reverse=True)\n",
    "#print(정렬된값들)\n",
    "plt.bar(range(len(정렬된명사들[:10])),정렬된값들[:10],align=\"center\")\n",
    "\n",
    "plt.xticks(range(len(정렬된명사들[:10])),정렬된명사들[:10],rotation=70) #x축에 틱을 달아줌\n",
    "plt.show()"
   ]
  },
  {
   "cell_type": "code",
   "execution_count": 142,
   "id": "8a053211-94d5-4fa3-9b2a-48a85fb14516",
   "metadata": {},
   "outputs": [
    {
     "data": {
      "text/plain": [
       "['여행', '책', '북', '보리', '아시아', '세계', '유니', '오니', '기행', '유럽']"
      ]
     },
     "execution_count": 142,
     "metadata": {},
     "output_type": "execute_result"
    }
   ],
   "source": [
    "정렬된명사들[:10]"
   ]
  },
  {
   "cell_type": "markdown",
   "id": "b0d33c5c-1437-49d9-bea7-a204b3979f77",
   "metadata": {},
   "source": [
    "## 막대그래프"
   ]
  },
  {
   "cell_type": "code",
   "execution_count": 143,
   "id": "d6519a36-fb04-49ee-a124-16cde40dbf09",
   "metadata": {},
   "outputs": [
    {
     "data": {
      "image/png": "[encoded data removed]",
      "text/plain": [
       "<Figure size 1440x360 with 1 Axes>"
      ]
     },
     "metadata": {
      "needs_background": "light"
     },
     "output_type": "display_data"
    }
   ],
   "source": [
    "\n",
    "#### dataframe가져오기 ####\n",
    "df_sample = df_best2021년_여행['도서명']\n",
    "\n",
    "# 가져온 컬럼을 리스트로 변환\n",
    "val_list=df_sample.values.tolist()\n",
    "\n",
    "### 형태소분석(명사로) 하고 keword 리스트에 저장 ###\n",
    "okt =Okt()\n",
    "keyword=okt.nouns(' '.join(val_list))\n",
    "\n",
    "#### 필터링 #####\n",
    "for word in keyword:\n",
    "    if word == '양정판':\n",
    "            # print(i,f'{excp}')\n",
    "            continue\n",
    "    elif (word =='돈')or(len(word) > 1):\n",
    "        two_letter.append(word)\n",
    "\n",
    "# 갯수별 카운팅하고 딕셔너리로 변환\n",
    "keyword_dict = dict(Counter(keyword))\n",
    "keyword_dict\n",
    "######################################\n",
    "\n",
    "\n",
    "plt.figure(figsize=(20,5)) #그림사이즈를 크게-글자가 겹쳐서안보임\n",
    "plt.xlabel(\"키워드\")\n",
    "plt.ylabel(\"빈도수\")\n",
    "plt.grid()\n",
    "\n",
    "정렬된명사들=sorted(keyword_dict, key=keyword_dict.get, reverse=True)\n",
    "#내림차순으로 해야되기떄문에 리버스\n",
    "\n",
    "#각각의 값들이 갖고있는 카운트값이 필요\n",
    "정렬된값들 = sorted(keyword_dict.values(), reverse=True)\n",
    "#print(정렬된값들)\n",
    "plt.bar(range(len(정렬된명사들[:10])),정렬된값들[:10],align=\"center\")\n",
    "\n",
    "plt.xticks(range(len(정렬된명사들[:10])),정렬된명사들[:10],rotation=70) #x축에 틱을 달아줌\n",
    "plt.show()"
   ]
  },
  {
   "cell_type": "code",
   "execution_count": 145,
   "id": "de84342f-4e6b-4ff4-91cb-cbba4a4a8adf",
   "metadata": {},
   "outputs": [
    {
     "data": {
      "text/plain": [
       "1                                   나를 부르는 숲\n",
       "2                              백반기행(식객 허영만의)\n",
       "3                           백반기행. 2(식객 허영만의)\n",
       "4                         특별하게 제주(2021~2022)\n",
       "5                              에이든 국내여행 가이드북\n",
       "6               자동차 주말여행 코스북(2020)(전면개정판 3판)\n",
       "7                        리얼 국내여행(2021~2022년)\n",
       "8                          리얼 제주(2021~2022년)\n",
       "9             한 끼 식사의 행복: 서울의 소문난 인생 맛집 165곳\n",
       "10                                 전국일주 가이드북\n",
       "11                            진짜 프랑스는 시골에 있다\n",
       "12                            오늘부터 차박캠핑(반양장)\n",
       "13                          대한민국 트레킹 가이드(2판)\n",
       "14                      아이랑 제주 여행(2021-2022)\n",
       "15                                끌림(개정판 2판)\n",
       "16       만약 우리의 언어가 위스키라고 한다면(양장본 HardCover)\n",
       "17                        하루쯤 나 혼자 어디라도 가야겠다\n",
       "18                         송일준 PD 제주도 한 달 살기\n",
       "19                             에이든 제주여행 가이드북\n",
       "20                          미쉐린 가이드 서울(2021)\n",
       "21                대한민국 요즘 여행(2021~2022)(개정판)\n",
       "22                                 아름다운 사찰여행\n",
       "23                           대한민국 자동차 캠핑 가이드\n",
       "24                             바람이 분다 당신이 좋다\n",
       "25                     우리 땅 더 넓고 더 깊게 여행하는 법\n",
       "26                     여행의 기술(양장본 HardCover)\n",
       "27    제주도 여행백서(2021~2022)(대한민국 여행자를 위한)(개정판)\n",
       "28                     서울의 맛집(2021)(블루리본서베이)\n",
       "29              국내여행 버킷리스트 101(죽기 전에 가 봐야 할)\n",
       "30                     요즘 제주(2021~2022)(개정판)\n",
       "Name: 도서명, dtype: object"
      ]
     },
     "execution_count": 145,
     "metadata": {},
     "output_type": "execute_result"
    }
   ],
   "source": [
    "df_sample"
   ]
  },
  {
   "cell_type": "code",
   "execution_count": 146,
   "id": "4d9204b1-f75a-4982-8329-7d5662978701",
   "metadata": {},
   "outputs": [
    {
     "data": {
      "text/plain": [
       "['나를 부르는 숲',\n",
       " '백반기행',\n",
       " '백반기행. 2',\n",
       " '특별하게 제주',\n",
       " '에이든 국내여행 가이드북',\n",
       " '자동차 주말여행 코스북',\n",
       " '리얼 국내여행',\n",
       " '리얼 제주',\n",
       " '한 끼 식사의 행복: 서울의 소문난 인생 맛집 165곳',\n",
       " '전국일주 가이드북',\n",
       " '진짜 프랑스는 시골에 있다',\n",
       " '오늘부터 차박캠핑',\n",
       " '대한민국 트레킹 가이드',\n",
       " '아이랑 제주 여행',\n",
       " '끌림',\n",
       " '만약 우리의 언어가 위스키라고 한다면',\n",
       " '하루쯤 나 혼자 어디라도 가야겠다',\n",
       " '송일준 PD 제주도 한 달 살기',\n",
       " '에이든 제주여행 가이드북',\n",
       " '미쉐린 가이드 서울',\n",
       " '대한민국 요즘 여행',\n",
       " '아름다운 사찰여행',\n",
       " '대한민국 자동차 캠핑 가이드',\n",
       " '바람이 분다 당신이 좋다',\n",
       " '우리 땅 더 넓고 더 깊게 여행하는 법',\n",
       " '여행의 기술',\n",
       " '제주도 여행백서',\n",
       " '서울의 맛집',\n",
       " '국내여행 버킷리스트 101',\n",
       " '요즘 제주']"
      ]
     },
     "execution_count": 146,
     "metadata": {},
     "output_type": "execute_result"
    }
   ],
   "source": [
    "####################################################\n",
    "# \"(\"이후 안가져옴 ex양장본,개정판 등등\n",
    "val_list2=[]\n",
    "for i in range(len(val_list)):\n",
    "    val_list2.append(val_list[i].split('(')[0])\n",
    "val_list2    \n",
    "###################################################"
   ]
  },
  {
   "cell_type": "markdown",
   "id": "b63cc7a3-0c24-4e18-a2b6-39345654dd04",
   "metadata": {},
   "source": [
    "## 파이그래프\n",
    "\n",
    "\n"
   ]
  },
  {
   "cell_type": "code",
   "execution_count": 13,
   "id": "393cbb8e-fdf7-4b16-87cb-9a5f4a45142e",
   "metadata": {},
   "outputs": [
    {
     "data": {
      "image/png": "[encoded data removed]",
      "text/plain": [
       "<Figure size 576x576 with 1 Axes>"
      ]
     },
     "metadata": {},
     "output_type": "display_data"
    }
   ],
   "source": [
    "#### dataframe가져오기 ####\n",
    "df_sample = df_best2021년_분야_종합['분야']\n",
    "\n",
    "# 가져온 컬럼을 리스트로 변환\n",
    "val_list=df_sample.values.tolist()\n",
    "\n",
    "### 형태소분석(명사로) 하고 keword 리스트에 저장 ###\n",
    "okt =Okt()\n",
    "keyword=okt.nouns(' '.join(val_list))\n",
    "\n",
    "# 갯수별 카운팅하고 딕셔너리로 변환\n",
    "keyword_dict = dict(Counter(keyword))\n",
    "keyword_dict\n",
    "\n",
    "\n",
    "\n",
    "plt.figure(figsize=(8,8))\n",
    "plt.title(\"2021 종합베스트셀러 분야별\",fontsize=25)\n",
    "plt.axis('equal') \n",
    "plt.grid()\n",
    "\n",
    "정렬된명사들=sorted(keyword_dict, key=keyword_dict.get, reverse=True)\n",
    "#내림차순으로 해야되기떄문에 리버스\n",
    "\n",
    "#각각의 값들이 갖고있는 카운트값이 필요\n",
    "정렬된값들 = sorted(keyword_dict.values(), reverse=True)\n",
    "#print(정렬된값들)\n",
    "plt.pie(정렬된값들[:10],labels=정렬된명사들[:10], autopct=\"%.1f%%\",textprops={'size': 12},startangle=270) #소수 아래 한자리로 %비율 표시. %%=%도 함께 표기 #startangle=각도\n",
    "\n",
    "plt.show()"
   ]
  },
  {
   "cell_type": "markdown",
   "id": "2328945e-3442-465e-975c-3d2a8bb15838",
   "metadata": {},
   "source": [
    "## 꺽은선 그래프"
   ]
  },
  {
   "cell_type": "code",
   "execution_count": 54,
   "id": "edcd5e98-4f20-43d6-b5e6-2e9f4b37b6b9",
   "metadata": {},
   "outputs": [
    {
     "name": "stdout",
     "output_type": "stream",
     "text": [
      "18\n",
      "19\n",
      "20\n",
      "21\n"
     ]
    },
    {
     "data": {
      "text/plain": [
       "dict_keys(['시/에세이', '소설', '역사/문화', '자기계발', '인문', '정치/사회', '외국어', '경제/경영', '어린이', '과학', '가정/육아', '만화', '유아', '종교', '요리'])"
      ]
     },
     "execution_count": 54,
     "metadata": {},
     "output_type": "execute_result"
    }
   ],
   "source": [
    "\n",
    "\n",
    "#### dataframe가져오기 ####\n",
    "df_sample0 = df_best2018년_분야_종합['분야']\n",
    "df_sample1 = df_best2019년_분야_종합['분야']\n",
    "df_sample2 = df_best2020년_분야_종합['분야']\n",
    "df_sample3 = df_best2021년_분야_종합['분야']\n",
    "\n",
    "\n",
    "list_bs=[df_sample0,df_sample1,df_sample2,df_sample3]\n",
    "list_y=['18','19','20','21']\n",
    "\n",
    "for df_sample,d in zip(list_bs,list_y):\n",
    "    # 가져온 컬럼을 리스트로 변환\n",
    "    val_list=df_sample.values.tolist()\n",
    "\n",
    "\n",
    "    # \"(\"이후 안가져옴 ex양장본,개정판 등등\n",
    "    val_list2=[]\n",
    "    for i in range(len(val_list)):\n",
    "        val_list2.append(val_list[i].split('(')[0])\n",
    "\n",
    "    excp=['']\n",
    "\n",
    "    two_letter = []\n",
    "    for word in keyword:\n",
    "        if word in excp:\n",
    "                # print(i,f'{excp}')\n",
    "                continue\n",
    "        elif (word =='돈')or(len(word) > 1):\n",
    "            two_letter.append(word)\n",
    "    # print(type(Counter(val_list2)))\n",
    "\n",
    "    # 갯수별 카운팅하고 딕셔너리로 변환\n",
    "    globals()['keyword_dict_{}all'.format(d)] = dict(Counter(val_list2))\n",
    "    print(d)\n",
    "    \n",
    "\n",
    "\n",
    "######################################\n",
    "\n",
    "# listr[3]\n",
    "# print(keyword_dict_21all)\n",
    "# print(keyword_dict_20all)\n",
    "# print(keyword_dict_19all)\n",
    "# print(keyword_dict_18all)\n",
    "keyword_dict_18all.keys()"
   ]
  },
  {
   "cell_type": "code",
   "execution_count": 113,
   "id": "e4151b44-6c4b-4118-bb93-5a63b9dcb392",
   "metadata": {},
   "outputs": [
    {
     "name": "stderr",
     "output_type": "stream",
     "text": [
      "C:\\Users\\sw\\AppData\\Local\\Temp/ipykernel_5224/3722692504.py:20: FutureWarning: Dropping of nuisance columns in DataFrame reductions (with 'numeric_only=None') is deprecated; in a future version this will raise TypeError.  Select only valid columns before calling the reduction.\n",
      "  df_OUTER_JOIN4[\"sum\"] = df_OUTER_JOIN4.sum(axis=1)\n"
     ]
    },
    {
     "data": {
      "text/html": [
       "<div>\n",
       "<style scoped>\n",
       "    .dataframe tbody tr th:only-of-type {\n",
       "        vertical-align: middle;\n",
       "    }\n",
       "\n",
       "    .dataframe tbody tr th {\n",
       "        vertical-align: top;\n",
       "    }\n",
       "\n",
       "    .dataframe thead th {\n",
       "        text-align: right;\n",
       "    }\n",
       "</style>\n",
       "<table border=\"1\" class=\"dataframe\">\n",
       "  <thead>\n",
       "    <tr style=\"text-align: right;\">\n",
       "      <th></th>\n",
       "      <th>name</th>\n",
       "      <th>2018</th>\n",
       "      <th>2019</th>\n",
       "      <th>2020</th>\n",
       "      <th>2021</th>\n",
       "      <th>sum</th>\n",
       "    </tr>\n",
       "  </thead>\n",
       "  <tbody>\n",
       "    <tr>\n",
       "      <th>0</th>\n",
       "      <td>소설</td>\n",
       "      <td>42</td>\n",
       "      <td>34</td>\n",
       "      <td>32</td>\n",
       "      <td>34</td>\n",
       "      <td>142</td>\n",
       "    </tr>\n",
       "    <tr>\n",
       "      <th>1</th>\n",
       "      <td>시/에세이</td>\n",
       "      <td>40</td>\n",
       "      <td>38</td>\n",
       "      <td>31</td>\n",
       "      <td>23</td>\n",
       "      <td>132</td>\n",
       "    </tr>\n",
       "    <tr>\n",
       "      <th>2</th>\n",
       "      <td>경제/경영</td>\n",
       "      <td>22</td>\n",
       "      <td>28</td>\n",
       "      <td>35</td>\n",
       "      <td>45</td>\n",
       "      <td>130</td>\n",
       "    </tr>\n",
       "    <tr>\n",
       "      <th>3</th>\n",
       "      <td>인문</td>\n",
       "      <td>25</td>\n",
       "      <td>30</td>\n",
       "      <td>28</td>\n",
       "      <td>19</td>\n",
       "      <td>102</td>\n",
       "    </tr>\n",
       "    <tr>\n",
       "      <th>4</th>\n",
       "      <td>자기계발</td>\n",
       "      <td>20</td>\n",
       "      <td>17</td>\n",
       "      <td>26</td>\n",
       "      <td>27</td>\n",
       "      <td>90</td>\n",
       "    </tr>\n",
       "    <tr>\n",
       "      <th>5</th>\n",
       "      <td>외국어</td>\n",
       "      <td>19</td>\n",
       "      <td>17</td>\n",
       "      <td>12</td>\n",
       "      <td>11</td>\n",
       "      <td>59</td>\n",
       "    </tr>\n",
       "    <tr>\n",
       "      <th>6</th>\n",
       "      <td>어린이</td>\n",
       "      <td>9</td>\n",
       "      <td>12</td>\n",
       "      <td>13</td>\n",
       "      <td>14</td>\n",
       "      <td>48</td>\n",
       "    </tr>\n",
       "    <tr>\n",
       "      <th>7</th>\n",
       "      <td>역사/문화</td>\n",
       "      <td>8</td>\n",
       "      <td>6</td>\n",
       "      <td>2</td>\n",
       "      <td>4</td>\n",
       "      <td>20</td>\n",
       "    </tr>\n",
       "    <tr>\n",
       "      <th>8</th>\n",
       "      <td>과학</td>\n",
       "      <td>4</td>\n",
       "      <td>3</td>\n",
       "      <td>4</td>\n",
       "      <td>2</td>\n",
       "      <td>13</td>\n",
       "    </tr>\n",
       "    <tr>\n",
       "      <th>9</th>\n",
       "      <td>정치/사회</td>\n",
       "      <td>2</td>\n",
       "      <td>2</td>\n",
       "      <td>4</td>\n",
       "      <td>5</td>\n",
       "      <td>13</td>\n",
       "    </tr>\n",
       "    <tr>\n",
       "      <th>10</th>\n",
       "      <td>가정/육아</td>\n",
       "      <td>4</td>\n",
       "      <td>2</td>\n",
       "      <td>3</td>\n",
       "      <td>3</td>\n",
       "      <td>12</td>\n",
       "    </tr>\n",
       "    <tr>\n",
       "      <th>11</th>\n",
       "      <td>만화</td>\n",
       "      <td>1</td>\n",
       "      <td>3</td>\n",
       "      <td>1</td>\n",
       "      <td>3</td>\n",
       "      <td>8</td>\n",
       "    </tr>\n",
       "    <tr>\n",
       "      <th>12</th>\n",
       "      <td>청소년</td>\n",
       "      <td>0</td>\n",
       "      <td>0</td>\n",
       "      <td>3</td>\n",
       "      <td>5</td>\n",
       "      <td>8</td>\n",
       "    </tr>\n",
       "    <tr>\n",
       "      <th>13</th>\n",
       "      <td>유아</td>\n",
       "      <td>2</td>\n",
       "      <td>1</td>\n",
       "      <td>2</td>\n",
       "      <td>1</td>\n",
       "      <td>6</td>\n",
       "    </tr>\n",
       "    <tr>\n",
       "      <th>14</th>\n",
       "      <td>컴퓨터/IT</td>\n",
       "      <td>0</td>\n",
       "      <td>1</td>\n",
       "      <td>1</td>\n",
       "      <td>3</td>\n",
       "      <td>5</td>\n",
       "    </tr>\n",
       "    <tr>\n",
       "      <th>15</th>\n",
       "      <td>요리</td>\n",
       "      <td>1</td>\n",
       "      <td>3</td>\n",
       "      <td>0</td>\n",
       "      <td>0</td>\n",
       "      <td>4</td>\n",
       "    </tr>\n",
       "    <tr>\n",
       "      <th>16</th>\n",
       "      <td>건강</td>\n",
       "      <td>0</td>\n",
       "      <td>1</td>\n",
       "      <td>2</td>\n",
       "      <td>0</td>\n",
       "      <td>3</td>\n",
       "    </tr>\n",
       "    <tr>\n",
       "      <th>17</th>\n",
       "      <td>예술/대중문화</td>\n",
       "      <td>0</td>\n",
       "      <td>1</td>\n",
       "      <td>1</td>\n",
       "      <td>1</td>\n",
       "      <td>3</td>\n",
       "    </tr>\n",
       "    <tr>\n",
       "      <th>18</th>\n",
       "      <td>종교</td>\n",
       "      <td>1</td>\n",
       "      <td>1</td>\n",
       "      <td>0</td>\n",
       "      <td>0</td>\n",
       "      <td>2</td>\n",
       "    </tr>\n",
       "  </tbody>\n",
       "</table>\n",
       "</div>"
      ],
      "text/plain": [
       "       name  2018  2019  2020  2021  sum\n",
       "0        소설    42    34    32    34  142\n",
       "1     시/에세이    40    38    31    23  132\n",
       "2     경제/경영    22    28    35    45  130\n",
       "3        인문    25    30    28    19  102\n",
       "4      자기계발    20    17    26    27   90\n",
       "5       외국어    19    17    12    11   59\n",
       "6       어린이     9    12    13    14   48\n",
       "7     역사/문화     8     6     2     4   20\n",
       "8        과학     4     3     4     2   13\n",
       "9     정치/사회     2     2     4     5   13\n",
       "10    가정/육아     4     2     3     3   12\n",
       "11       만화     1     3     1     3    8\n",
       "12      청소년     0     0     3     5    8\n",
       "13       유아     2     1     2     1    6\n",
       "14   컴퓨터/IT     0     1     1     3    5\n",
       "15       요리     1     3     0     0    4\n",
       "16       건강     0     1     2     0    3\n",
       "17  예술/대중문화     0     1     1     1    3\n",
       "18       종교     1     1     0     0    2"
      ]
     },
     "execution_count": 113,
     "metadata": {},
     "output_type": "execute_result"
    }
   ],
   "source": [
    "### 각 년도별 df에서 name 컬럼 추출 ###\n",
    "df_best18_all=pd.DataFrame(list(keyword_dict_18all.items()),columns=['name','2018'])\n",
    "df_best19_all=pd.DataFrame(list(keyword_dict_19all.items()),columns=['name','2019'])\n",
    "df_best20_all=pd.DataFrame(list(keyword_dict_20all.items()),columns=['name','2020'])\n",
    "df_best21_all=pd.DataFrame(list(keyword_dict_21all.items()),columns=['name','2021'])\n",
    "\n",
    "### 추출한 컬럼 한 표로 합치고 결측치 0으로 채우기 ###\n",
    "df_OUTER_JOIN = pd.merge(df_best18_all, df_best19_all, left_on='name', right_on='name', how='outer')\n",
    "df_OUTER_JOIN2 = pd.merge(df_best20_all,df_best21_all, left_on='name', right_on='name', how='outer')\n",
    "df_OUTER_JOIN3 = pd.merge(df_OUTER_JOIN,df_OUTER_JOIN2, left_on='name', right_on='name', how='outer').fillna(0)\n",
    "df_OUTER_JOIN3\n",
    "\n",
    "### 컬럼명 지정 후, 실수값 -> 정수값 ###\n",
    "cols = ['2018', '2019', '2020', '2021']\n",
    "df_OUTER_JOIN3[cols] = df_OUTER_JOIN3[cols].applymap(np.int64)\n",
    "df_OUTER_JOIN3\n",
    "##########################\n",
    "#합계 구하기\n",
    "# df_OUTER_JOIN3.sum(axis=1)\n",
    "df_OUTER_JOIN4 = df_OUTER_JOIN3\n",
    "##########################\n",
    "# # 합계 구하기\n",
    "df_OUTER_JOIN4[\"sum\"] = df_OUTER_JOIN4.sum(axis=1)\n",
    "df_OUTER_JOIN4 = df_OUTER_JOIN4.sort_values(by=[\"sum\"], ascending=False,ignore_index=True)\n",
    "df_OUTER_JOIN4"
   ]
  },
  {
   "cell_type": "code",
   "execution_count": 172,
   "id": "76e5897e-68e7-42c0-a49c-23466eb44e7b",
   "metadata": {},
   "outputs": [
    {
     "data": {
      "text/html": [
       "<div>\n",
       "<style scoped>\n",
       "    .dataframe tbody tr th:only-of-type {\n",
       "        vertical-align: middle;\n",
       "    }\n",
       "\n",
       "    .dataframe tbody tr th {\n",
       "        vertical-align: top;\n",
       "    }\n",
       "\n",
       "    .dataframe thead th {\n",
       "        text-align: right;\n",
       "    }\n",
       "</style>\n",
       "<table border=\"1\" class=\"dataframe\">\n",
       "  <thead>\n",
       "    <tr style=\"text-align: right;\">\n",
       "      <th></th>\n",
       "      <th>name</th>\n",
       "      <th>sum</th>\n",
       "    </tr>\n",
       "  </thead>\n",
       "  <tbody>\n",
       "    <tr>\n",
       "      <th>0</th>\n",
       "      <td>소설</td>\n",
       "      <td>142</td>\n",
       "    </tr>\n",
       "    <tr>\n",
       "      <th>1</th>\n",
       "      <td>시/에세이</td>\n",
       "      <td>132</td>\n",
       "    </tr>\n",
       "    <tr>\n",
       "      <th>2</th>\n",
       "      <td>경제/경영</td>\n",
       "      <td>130</td>\n",
       "    </tr>\n",
       "    <tr>\n",
       "      <th>3</th>\n",
       "      <td>인문</td>\n",
       "      <td>102</td>\n",
       "    </tr>\n",
       "    <tr>\n",
       "      <th>4</th>\n",
       "      <td>자기계발</td>\n",
       "      <td>90</td>\n",
       "    </tr>\n",
       "    <tr>\n",
       "      <th>5</th>\n",
       "      <td>외국어</td>\n",
       "      <td>59</td>\n",
       "    </tr>\n",
       "    <tr>\n",
       "      <th>6</th>\n",
       "      <td>어린이</td>\n",
       "      <td>48</td>\n",
       "    </tr>\n",
       "    <tr>\n",
       "      <th>7</th>\n",
       "      <td>기타</td>\n",
       "      <td>97</td>\n",
       "    </tr>\n",
       "  </tbody>\n",
       "</table>\n",
       "</div>"
      ],
      "text/plain": [
       "    name  sum\n",
       "0     소설  142\n",
       "1  시/에세이  132\n",
       "2  경제/경영  130\n",
       "3     인문  102\n",
       "4   자기계발   90\n",
       "5    외국어   59\n",
       "6    어린이   48\n",
       "7     기타   97"
      ]
     },
     "execution_count": 172,
     "metadata": {},
     "output_type": "execute_result"
    }
   ],
   "source": [
    "index_n=len(df_OUTER_JOIN4.index)\n",
    "top_n=7\n",
    "df_top=df_OUTER_JOIN4[['name','sum']].head(top_n)\n",
    "df_buttom=df_OUTER_JOIN4[['name','sum']].tail(index_n-top_n)\n",
    "#sum \n",
    "df_buttom2 = pd.DataFrame([['기타',0]],columns=['name','sum'])\n",
    "df_buttom2['sum']=df_buttom['sum'].sum()\n",
    "df_best = pd.concat([df_top, df_buttom2],ignore_index=True)\n",
    "df_best "
   ]
  },
  {
   "cell_type": "code",
   "execution_count": 84,
   "id": "23b193c8-cb4c-4db1-a655-fd7221bff3e5",
   "metadata": {},
   "outputs": [
    {
     "data": {
      "image/png": "[encoded data removed]",
      "text/plain": [
       "<Figure size 432x288 with 1 Axes>"
      ]
     },
     "metadata": {
      "needs_background": "light"
     },
     "output_type": "display_data"
    },
    {
     "data": {
      "image/png": "[encoded data removed]",
      "text/plain": [
       "<Figure size 1440x360 with 1 Axes>"
      ]
     },
     "metadata": {
      "needs_background": "light"
     },
     "output_type": "display_data"
    }
   ],
   "source": [
    "barWidth = 0.4\n",
    "plt.bar(range(len(정렬된명사들[:10])),정렬된값들[:10],align=\"center\")\n",
    "plt.figure(figsize=(20,5)) #그림사이즈를 크게-글자가 겹쳐서안보임\n",
    "plt.xlabel(\"YEAR\")\n",
    "plt.ylabel(\"분야\")\n",
    "plt.grid()\n",
    "\n",
    "정렬된명사들=sorted(keyword_dict, key=keyword_dict.get, reverse=True)\n",
    "#내림차순으로 해야되기떄문에 리버스\n",
    "\n",
    "#각각의 값들이 갖고있는 카운트값이 필요\n",
    "정렬된값들 = sorted(keyword_dict.values(), reverse=True)\n",
    "#print(정렬된값들)\n",
    "plt.bar(range(len(정렬된명사들[:10])),정렬된값들[:10],align=\"center\")\n",
    "\n",
    "plt.xticks(range(len(정렬된명사들[:10])),정렬된명사들[:10],rotation=70) #x축에 틱을 달아줌\n",
    "plt.show()"
   ]
  },
  {
   "cell_type": "code",
   "execution_count": 12,
   "id": "283f169f-43c8-4c30-9470-6d284b07c372",
   "metadata": {},
   "outputs": [
    {
     "data": {
      "image/png": "[encoded data removed]",
      "text/plain": [
       "<Figure size 1440x360 with 1 Axes>"
      ]
     },
     "metadata": {
      "needs_background": "light"
     },
     "output_type": "display_data"
    }
   ],
   "source": [
    "plt.figure(figsize=(20,5)) #그림사이즈를 크게-글자가 겹쳐서안보임\n",
    "plt.xlabel(\"키워드\")\n",
    "plt.ylabel(\"빈도수\")\n",
    "plt.grid()\n",
    "\n",
    "정렬된명사들=sorted(keyword_dict_21all, key=keyword_dict_21all.get, reverse=True)\n",
    "#내림차순으로 해야되기떄문에 리버스\n",
    "\n",
    "#각각의 값들이 갖고있는 카운트값이 필요\n",
    "정렬된값들 = sorted(keyword_dict_21all.values(), reverse=True)\n",
    "#print(정렬된값들)\n",
    "plt.bar(range(len(정렬된명사들[:10])),정렬된값들[:10],align=\"center\")\n",
    "\n",
    "plt.xticks(range(len(정렬된명사들[:10])),정렬된명사들[:10],rotation=70) #x축에 틱을 달아줌\n",
    "plt.show()"
   ]
  },
  {
   "cell_type": "code",
   "execution_count": 155,
   "id": "448dda72-95f7-4226-b1f0-d3c56214b1de",
   "metadata": {},
   "outputs": [
    {
     "data": {
      "image/png": "[encoded data removed]",
      "text/plain": [
       "<Figure size 576x576 with 1 Axes>"
      ]
     },
     "metadata": {},
     "output_type": "display_data"
    }
   ],
   "source": [
    "plt.figure(figsize=(8,8))\n",
    "plt.title(\"2021 종합베스트셀러 분야별\",fontsize=25)\n",
    "plt.axis('equal') \n",
    "plt.grid()\n",
    "\n",
    "정렬된명사들=sorted(keyword_dict_21all, key=keyword_dict_21all.get, reverse=True)\n",
    "#내림차순으로 해야되기떄문에 리버스\n",
    "\n",
    "#각각의 값들이 갖고있는 카운트값이 필요\n",
    "정렬된값들 = sorted(keyword_dict_21all.values(), reverse=True)\n",
    "#print(정렬된값들)\n",
    "plt.pie(정렬된값들[:10],labels=정렬된명사들[:10], autopct=\"%.1f%%\",textprops={'size': 12},startangle=270) #소수 아래 한자리로 %비율 표시. %%=%도 함께 표기 #startangle=각도\n",
    "\n",
    "plt.show()"
   ]
  },
  {
   "cell_type": "code",
   "execution_count": 175,
   "id": "c5e8c844-ca6d-4ef6-801a-721447742cf1",
   "metadata": {},
   "outputs": [
    {
     "data": {
      "image/png": "[encoded data removed]",
      "text/plain": [
       "<Figure size 576x576 with 1 Axes>"
      ]
     },
     "metadata": {},
     "output_type": "display_data"
    }
   ],
   "source": [
    "### 파이차트 ###\n",
    "import seaborn as sns\n",
    "plt.figure(figsize=(8,8))\n",
    "\n",
    "plt.title(\"종합 베스트셀러 분야별\",fontsize=20)\n",
    "plt.axis('equal') \n",
    "\n",
    "name_b=df_best['name'].tolist()\n",
    "sum_b=df_best['sum'].values.tolist()\n",
    "\n",
    "colors = sns.color_palette('hls',len(name_b)) \n",
    " \n",
    "\n",
    "plt.pie(sum_b,labels=name_b, autopct=\"%.1f%%\",\n",
    "        textprops={'size': 12},startangle=30,\n",
    "        colors = colors ## 색상 지정\n",
    "       ) #소수 아래 한자리로 %비율 표시. %%=%도 함께 표기 #startangle=각도\n",
    "\n",
    "plt.axis('equal') \n",
    "plt.savefig(\"pi_rank_genre_21.png\",dpi=150) \n",
    "plt.show()"
   ]
  },
  {
   "cell_type": "code",
   "execution_count": 181,
   "id": "2429b2b7-e8e9-4d34-a92b-1d10f403ca6b",
   "metadata": {},
   "outputs": [
    {
     "data": {
      "text/html": [
       "<div>\n",
       "<style scoped>\n",
       "    .dataframe tbody tr th:only-of-type {\n",
       "        vertical-align: middle;\n",
       "    }\n",
       "\n",
       "    .dataframe tbody tr th {\n",
       "        vertical-align: top;\n",
       "    }\n",
       "\n",
       "    .dataframe thead th {\n",
       "        text-align: right;\n",
       "    }\n",
       "</style>\n",
       "<table border=\"1\" class=\"dataframe\">\n",
       "  <thead>\n",
       "    <tr style=\"text-align: right;\">\n",
       "      <th></th>\n",
       "      <th>name</th>\n",
       "      <th>2018</th>\n",
       "      <th>2019</th>\n",
       "      <th>2020</th>\n",
       "      <th>2021</th>\n",
       "      <th>sum</th>\n",
       "    </tr>\n",
       "  </thead>\n",
       "  <tbody>\n",
       "    <tr>\n",
       "      <th>0</th>\n",
       "      <td>소설</td>\n",
       "      <td>42</td>\n",
       "      <td>34</td>\n",
       "      <td>32</td>\n",
       "      <td>34</td>\n",
       "      <td>142</td>\n",
       "    </tr>\n",
       "    <tr>\n",
       "      <th>1</th>\n",
       "      <td>시/에세이</td>\n",
       "      <td>40</td>\n",
       "      <td>38</td>\n",
       "      <td>31</td>\n",
       "      <td>23</td>\n",
       "      <td>132</td>\n",
       "    </tr>\n",
       "    <tr>\n",
       "      <th>2</th>\n",
       "      <td>경제/경영</td>\n",
       "      <td>22</td>\n",
       "      <td>28</td>\n",
       "      <td>35</td>\n",
       "      <td>45</td>\n",
       "      <td>130</td>\n",
       "    </tr>\n",
       "    <tr>\n",
       "      <th>3</th>\n",
       "      <td>인문</td>\n",
       "      <td>25</td>\n",
       "      <td>30</td>\n",
       "      <td>28</td>\n",
       "      <td>19</td>\n",
       "      <td>102</td>\n",
       "    </tr>\n",
       "    <tr>\n",
       "      <th>4</th>\n",
       "      <td>자기계발</td>\n",
       "      <td>20</td>\n",
       "      <td>17</td>\n",
       "      <td>26</td>\n",
       "      <td>27</td>\n",
       "      <td>90</td>\n",
       "    </tr>\n",
       "    <tr>\n",
       "      <th>5</th>\n",
       "      <td>외국어</td>\n",
       "      <td>19</td>\n",
       "      <td>17</td>\n",
       "      <td>12</td>\n",
       "      <td>11</td>\n",
       "      <td>59</td>\n",
       "    </tr>\n",
       "  </tbody>\n",
       "</table>\n",
       "</div>"
      ],
      "text/plain": [
       "    name  2018  2019  2020  2021  sum\n",
       "0     소설    42    34    32    34  142\n",
       "1  시/에세이    40    38    31    23  132\n",
       "2  경제/경영    22    28    35    45  130\n",
       "3     인문    25    30    28    19  102\n",
       "4   자기계발    20    17    26    27   90\n",
       "5    외국어    19    17    12    11   59"
      ]
     },
     "execution_count": 181,
     "metadata": {},
     "output_type": "execute_result"
    }
   ],
   "source": [
    "df_OUTER_JOIN4.head(6)"
   ]
  },
  {
   "cell_type": "code",
   "execution_count": 263,
   "id": "e9b1f9a7-acf9-4b78-9658-9c47a0bab022",
   "metadata": {},
   "outputs": [
    {
     "data": {
      "text/plain": [
       "['소설', 42, 34, 32, 34]"
      ]
     },
     "execution_count": 263,
     "metadata": {},
     "output_type": "execute_result"
    }
   ],
   "source": [
    "ylabel=df_OUTER_JOIN4.loc[0].tolist()[:-1]\n",
    "ylabel\n",
    "# len(df_OUTER_JOIN4.index)"
   ]
  },
  {
   "cell_type": "code",
   "execution_count": 200,
   "id": "6bad9e4c-ec43-470c-aa04-37d6abc71ccf",
   "metadata": {},
   "outputs": [
    {
     "data": {
      "text/plain": [
       "<matplotlib.legend.Legend at 0x27971be66a0>"
      ]
     },
     "execution_count": 200,
     "metadata": {},
     "output_type": "execute_result"
    },
    {
     "data": {
      "image/png": "[encoded data removed]",
      "text/plain": [
       "<Figure size 432x288 with 1 Axes>"
      ]
     },
     "metadata": {
      "needs_background": "light"
     },
     "output_type": "display_data"
    }
   ],
   "source": [
    "## 꺽은선 그래프\n",
    "\n",
    "xlabel=df_OUTER_JOIN4.columns[1:-1].tolist()\n",
    "\n",
    "ylabel0=df_OUTER_JOIN4.loc[0].tolist()[:-1]\n",
    "ylabel1=df_OUTER_JOIN4.loc[1].tolist()[:-1]\n",
    "\n",
    "plt.plot(xlabel,ylabel0[1:],\"go-\",label=ylabel0[0]) #,label=\"graph1\" :레전드\n",
    "plt.plot(xlabel,ylabel1[1:],\"bo-\",label=ylabel1[0])\n",
    "plt.xlabel(\"년도\") #라벨안쪽에는 한그이 들어가면 글자꺠짐(폰트 없을때)\n",
    "plt.ylabel(\"빈도\")\n",
    "\n",
    "plt.title(\"Label test\")\n",
    "plt.legend()  #p304 :레전드 - 라벨들을(라벨이있다면) 표시한다."
   ]
  },
  {
   "cell_type": "code",
   "execution_count": 262,
   "id": "9c71505c-69cd-40df-acd2-54c0c891f03b",
   "metadata": {},
   "outputs": [
    {
     "data": {
      "text/plain": [
       "<matplotlib.legend.Legend at 0x279748cc280>"
      ]
     },
     "execution_count": 262,
     "metadata": {},
     "output_type": "execute_result"
    },
    {
     "data": {
      "image/png": "[encoded data removed]",
      "text/plain": [
       "<Figure size 648x504 with 1 Axes>"
      ]
     },
     "metadata": {
      "needs_background": "light"
     },
     "output_type": "display_data"
    }
   ],
   "source": [
    "############ 꺽은선 ##############\n",
    "### x라벨 컬럼명에서 년도 가져오기\n",
    "xlabel=df_OUTER_JOIN4.columns[1:-1].tolist()\n",
    "\n",
    "### y라벨 만들기 갯수만큼\n",
    "ix_n=len(df_OUTER_JOIN4.head(6).index)\n",
    "ylabel_list=[]\n",
    "\n",
    "for d in range(ix_n):\n",
    "    globals()['ylabel_{}'.format(str(d))] = df_OUTER_JOIN4.loc[d].tolist()[:-1]\n",
    "    ylabel_list.append('ylabel_{}'.format(str(d)))\n",
    "\n",
    "\n",
    "plt.figure(figsize=(9,7))\n",
    "# plt.grid(axis='x')\n",
    "plt.plot(xlabel,ylabel_0[1:],\"b-\",label=ylabel_0[0])\n",
    "plt.plot(xlabel,ylabel_1[1:],\"g-\",label=ylabel_1[0])\n",
    "plt.plot(xlabel,ylabel_2[1:],\"r-\",label=ylabel_2[0])\n",
    "plt.plot(xlabel,ylabel_3[1:],\"c-\",label=ylabel_3[0])\n",
    "plt.plot(xlabel,ylabel_4[1:],\"m-\",label=ylabel_4[0])\n",
    "plt.plot(xlabel,ylabel_5[1:],\"y-\",label=ylabel_5[0])\n",
    "\n",
    " \n",
    "plt.xlabel(\"년도\") \n",
    "plt.ylabel(\"빈도\")\n",
    "# plt.xlim(0,0)\n",
    "plt.ylim(0,50)\n",
    "plt.title(\"4년간\")\n",
    "plt.legend(loc=3)"
   ]
  },
  {
   "cell_type": "code",
   "execution_count": 215,
   "id": "c0e36056-10eb-46c9-8f64-09721c998536",
   "metadata": {},
   "outputs": [
    {
     "data": {
      "text/plain": [
       "['외국어', 19, 17, 12, 11]"
      ]
     },
     "execution_count": 215,
     "metadata": {},
     "output_type": "execute_result"
    }
   ],
   "source": [
    "ylabel_5"
   ]
  },
  {
   "cell_type": "code",
   "execution_count": 217,
   "id": "3912b863-c0f7-4bfa-8ee8-047835485cf5",
   "metadata": {},
   "outputs": [
    {
     "data": {
      "text/plain": [
       "['ylabel_0', 'ylabel_1', 'ylabel_2', 'ylabel_3', 'ylabel_4', 'ylabel_5']"
      ]
     },
     "execution_count": 217,
     "metadata": {},
     "output_type": "execute_result"
    }
   ],
   "source": [
    "ylabel_list"
   ]
  }
 ],
 "metadata": {
  "kernelspec": {
   "display_name": "Python 3 (ipykernel)",
   "language": "python",
   "name": "python3"
  },
  "language_info": {
   "codemirror_mode": {
    "name": "ipython",
    "version": 3
   },
   "file_extension": ".py",
   "mimetype": "text/x-python",
   "name": "python",
   "nbconvert_exporter": "python",
   "pygments_lexer": "ipython3",
   "version": "3.9.7"
  }
 },
 "nbformat": 4,
 "nbformat_minor": 5
}
